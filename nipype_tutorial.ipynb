{
 "metadata": {
  "name": "tutorial-Copy2"
 },
 "name": "tutorial-Copy2",
 "nbformat": 3,
 "worksheets": [
  {
   "cells": [
    {
     "cell_type": "markdown",
     "source": "- Nipype as a library\n- Imperative programming with caching\n- Workflow concepts\n- Hello World! of workflows\n- Data grabbing and sinking\n- Loops: iterables and iterfields\n- The `Function` interface\n- Config options\n- Debugging\n- Distributed computing\n- Actual workflows: preprocessing"
    },
    {
     "cell_type": "code",
     "collapsed": false,
     "input": "import os\nfrom shutil import copyfile",
     "language": "python",
     "outputs": [],
     "prompt_number": 1
    },
    {
     "cell_type": "code",
     "collapsed": false,
     "input": "library_dir = os.path.join(os.getenv('TUT_DIR'), 'as_a_library')\nos.mkdir(library_dir)",
     "language": "python",
     "outputs": [],
     "prompt_number": 6
    },
    {
     "cell_type": "code",
     "collapsed": false,
     "input": "os.chdir(library_dir)",
     "language": "python",
     "outputs": [],
     "prompt_number": 8
    },
    {
     "cell_type": "code",
     "collapsed": true,
     "input": "from nipype.interfaces.freesurfer import MRIConvert",
     "language": "python",
     "outputs": [],
     "prompt_number": 10
    },
    {
     "cell_type": "code",
     "collapsed": false,
     "input": "MRIConvert(in_file='../ds107/sub001/BOLD/task001_run001/bold.nii.gz', \n           out_file='ds107.nii').run()",
     "language": "python",
     "outputs": [],
     "prompt_number": 12
    },
    {
     "cell_type": "code",
     "collapsed": false,
     "input": "ls",
     "language": "python",
     "outputs": [],
     "prompt_number": 13
    },
    {
     "cell_type": "code",
     "collapsed": false,
     "input": "from nipype.interfaces.spm import Realign\nfrom nipype.interfaces.fsl import MCFLIRT",
     "language": "python",
     "outputs": [],
     "prompt_number": 14
    },
    {
     "cell_type": "code",
     "collapsed": false,
     "input": "results1 = Realign(in_files='ds107.nii', register_to_mean=False).run()",
     "language": "python",
     "outputs": [],
     "prompt_number": 16
    },
    {
     "cell_type": "code",
     "collapsed": false,
     "input": "ls",
     "language": "python",
     "outputs": [],
     "prompt_number": 17
    },
    {
     "cell_type": "code",
     "collapsed": false,
     "input": "MCFLIRT.help()",
     "language": "python",
     "outputs": [],
     "prompt_number": 19
    },
    {
     "cell_type": "code",
     "collapsed": false,
     "input": "results2 = MCFLIRT(in_file='ds107.nii', ref_vol=0).run()",
     "language": "python",
     "outputs": [],
     "prompt_number": 20
    },
    {
     "cell_type": "code",
     "collapsed": false,
     "input": "ls",
     "language": "python",
     "outputs": [],
     "prompt_number": 21
    },
    {
     "cell_type": "code",
     "collapsed": false,
     "input": "results2 = MCFLIRT(in_file='ds107.nii', ref_vol=0, save_plots=True).run()",
     "language": "python",
     "outputs": [],
     "prompt_number": 24
    },
    {
     "cell_type": "code",
     "collapsed": false,
     "input": "ls",
     "language": "python",
     "outputs": [],
     "prompt_number": 25
    },
    {
     "cell_type": "code",
     "collapsed": false,
     "input": "subplot(211);plot(genfromtxt('ds107_mcf.nii.gz.par')[:, 3:])\nsubplot(212);plot(genfromtxt('rp_ds107.txt')[:,:3])",
     "language": "python",
     "outputs": [],
     "prompt_number": 30
    },
    {
     "cell_type": "code",
     "collapsed": false,
     "input": "MCFLIRT(in_file='ds107.nii', ref_vol=0, save_plots=True).run()",
     "language": "python",
     "outputs": [],
     "prompt_number": 31
    },
    {
     "cell_type": "code",
     "collapsed": false,
     "input": "cd ..",
     "language": "python",
     "outputs": [],
     "prompt_number": 32
    },
    {
     "cell_type": "code",
     "collapsed": true,
     "input": "from nipype.caching import Memory",
     "language": "python",
     "outputs": [],
     "prompt_number": 33
    },
    {
     "cell_type": "code",
     "collapsed": false,
     "input": "mem = Memory('.')",
     "language": "python",
     "outputs": [],
     "prompt_number": 36
    },
    {
     "cell_type": "code",
     "collapsed": true,
     "input": "spm_realign = mem.cache(Realign)\nfsl_realign = mem.cache(MCFLIRT)",
     "language": "python",
     "outputs": [],
     "prompt_number": 37
    },
    {
     "cell_type": "code",
     "collapsed": false,
     "input": "spm_results = spm_realign(in_files='./as_a_library/ds107.nii', register_to_mean=False)",
     "language": "python",
     "outputs": [],
     "prompt_number": 39
    },
    {
     "cell_type": "code",
     "collapsed": false,
     "input": "fsl_results = fsl_realign(in_file='./as_a_library/ds107.nii', ref_vol=0, save_plots=True)",
     "language": "python",
     "outputs": [],
     "prompt_number": 40
    },
    {
     "cell_type": "code",
     "collapsed": false,
     "input": "subplot(211);plot(genfromtxt(fsl_results.outputs.par_file)[:, 3:])\nsubplot(212);plot(genfromtxt(spm_results.outputs.realignment_parameters)[:,:3])",
     "language": "python",
     "outputs": [],
     "prompt_number": 41
    },
    {
     "cell_type": "code",
     "collapsed": false,
     "input": "spm_results = spm_realign(in_files='./as_a_library/ds107.nii', register_to_mean=False)\nfsl_results = fsl_realign(in_file='./as_a_library/ds107.nii', ref_vol=0, save_plots=True)",
     "language": "python",
     "outputs": [],
     "prompt_number": 42
    },
    {
     "cell_type": "code",
     "collapsed": false,
     "input": "from os.path import abspath as opap",
     "language": "python",
     "outputs": [],
     "prompt_number": 45
    },
    {
     "cell_type": "code",
     "collapsed": true,
     "input": "files = [opap('ds107/sub001/BOLD/task001_run001/bold.nii.gz'),\n         opap('ds107/sub001/BOLD/task001_run002/bold.nii.gz')]\nspm_results = spm_realign(in_files=files, register_to_mean=False)\nfsl_results = fsl_realign(in_file=files, ref_vol=0, save_plots=True)",
     "language": "python",
     "outputs": [],
     "prompt_number": 46
    },
    {
     "cell_type": "code",
     "collapsed": true,
     "input": "from nipype.pipeline.engine import Node, MapNode, Workflow",
     "language": "python",
     "outputs": [],
     "prompt_number": 48
    },
    {
     "cell_type": "code",
     "collapsed": false,
     "input": "converter = mem.cache(MRIConvert)\nnewfiles = []\nfor idx, fname in enumerate(files):\n    newfiles.append(converter(in_file=fname, out_type='nii').outputs.out_file)\nprint newfiles",
     "language": "python",
     "outputs": [],
     "prompt_number": 76
    },
    {
     "cell_type": "code",
     "collapsed": false,
     "input": "spm_realign = Node(Realign(), name='motion_correct')\nspm_realign.inputs.in_files = newfiles\nspm_realign.inputs.register_to_mean = False\nspm_realign.run()",
     "language": "python",
     "outputs": [],
     "prompt_number": 78
    },
    {
     "cell_type": "code",
     "collapsed": false,
     "input": "realign_fsl = MapNode(MCFLIRT(), iterfield=['in_file'],\n                      name='motion_correct_with_fsl')\nrealign_fsl.inputs.in_file = files\nrealign_fsl.inputs.ref_vol = 0\nrealign_fsl.run()",
     "language": "python",
     "outputs": [],
     "prompt_number": 80
    },
    {
     "cell_type": "code",
     "collapsed": true,
     "input": "spm_realign = Node(Realign(), name='motion_correct')\nrealign_fsl = MapNode(MCFLIRT(), iterfield=['in_file'],\n                      name='motion_correct_with_fsl')\nmyflow = Workflow(name='realign')\nmyflow.add_nodes([spm_realign, realign_fsl])\nmyflow.base_dir=opap('.')\nmyflow.inputs.motion_correct.in_files = newfiles\nmyflow.inputs.motion_correct.register_to_mean = False\nmyflow.inputs.motion_correct_with_fsl.in_file = files\nmyflow.inputs.motion_correct_with_fsl.ref_vol = 0\nmyflow.run()",
     "language": "python",
     "outputs": [],
     "prompt_number": 84
    },
    {
     "cell_type": "code",
     "collapsed": false,
     "input": "myflow.list_node_names()",
     "language": "python",
     "outputs": [],
     "prompt_number": 85
    },
    {
     "cell_type": "code",
     "collapsed": true,
     "input": "convert2nii = MapNode(MRIConvert(out_type='nii'),\n                      iterfield=['in_file'],\n                      name='convert2nii')\nrealign_spm = Node(Realign(), name='motion_correct')\nconvert2nii.inputs.in_file = files\nrealign_spm.inputs.register_to_mean = False\n\nrealignflow = Workflow(name='realign_with_spm')\nrealignflow.connect(convert2nii, 'out_file',\n                    realign_spm, 'in_files')\nrealignflow.base_dir = opap('.')\nrealignflow.run()",
     "language": "python",
     "outputs": [],
     "prompt_number": 86
    },
    {
     "cell_type": "code",
     "collapsed": false,
     "input": "realignflow.write_graph()",
     "language": "python",
     "outputs": [],
     "prompt_number": 87
    },
    {
     "cell_type": "code",
     "collapsed": true,
     "input": "from IPython.core.display import Image",
     "language": "python",
     "outputs": [],
     "prompt_number": 88
    },
    {
     "cell_type": "code",
     "collapsed": false,
     "input": "Image(filename='/mindhive/gablab/satra/mri_class/realign_with_spm/graph.dot.png')",
     "language": "python",
     "outputs": [],
     "prompt_number": 92
    },
    {
     "cell_type": "code",
     "collapsed": false,
     "input": "realignflow.write_graph(graph2use='orig')",
     "language": "python",
     "outputs": [],
     "prompt_number": 96
    },
    {
     "cell_type": "code",
     "collapsed": false,
     "input": "Image(filename='/mindhive/gablab/satra/mri_class/realign_with_spm/graph.dot.png')",
     "language": "python",
     "outputs": [],
     "prompt_number": 98
    },
    {
     "cell_type": "code",
     "collapsed": true,
     "input": "from nipype.interfaces.io import DataGrabber",
     "language": "python",
     "outputs": [],
     "prompt_number": 99
    },
    {
     "cell_type": "code",
     "collapsed": false,
     "input": "ds = Node(DataGrabber(infields=['subject_id'], outfields=['func']), \n          name='datasource')\nds.inputs.base_directory = opap('ds107')\nds.inputs.subject_id = 'sub001'\nds.inputs.template = '%s/BOLD/task001*/bold.nii.gz'\nds.run().outputs",
     "language": "python",
     "outputs": [],
     "prompt_number": 100
    },
    {
     "cell_type": "code",
     "collapsed": false,
     "input": "ds.inputs.subject_id = 'sub049'\nds.run().outputs",
     "language": "python",
     "outputs": [],
     "prompt_number": 101
    },
    {
     "cell_type": "code",
     "collapsed": false,
     "input": "ds = Node(DataGrabber(infields=['subject_id', 'task_id'],\n                      outfields=['func', 'anat']),\n                      name='datasource')\nds.inputs.base_directory = opap('ds107')\nds.inputs.template = '*'\nds.inputs.subject_id = 'sub001'\nds.inputs.task_id = 1\nds.inputs.template_args = {'func': [['subject_id', 'task_id']],\n                            'anat': [['subject_id']]}\nds.inputs.field_template = {'func': '%s/BOLD/task%03d*/bold.nii.gz',\n                            'anat': '%s/anatomy/highres001.nii.gz'}\nds.run().outputs",
     "language": "python",
     "outputs": [],
     "prompt_number": 109
    },
    {
     "cell_type": "code",
     "collapsed": false,
     "input": "multiworkflow = Workflow(name='iterables')\nds.iterables = ('subject_id', ['sub001', 'sub049'])\nmultiworkflow.add_nodes([ds])\nmultiworkflow.run()",
     "language": "python",
     "outputs": [],
     "prompt_number": 111
    },
    {
     "cell_type": "code",
     "collapsed": true,
     "input": "ds = Node(DataGrabber(infields=['subject_id', 'task_id'],\n                      outfields=['func']),\n                      name='datasource')\nds.inputs.base_directory = opap('ds107')\nds.inputs.template = '%s/BOLD/task%03d*/bold.nii.gz'\nds.inputs.template_args = {'func': [['subject_id', 'task_id']]}\nds.inputs.task_id = 1\nconvert2nii = MapNode(MRIConvert(out_type='nii'),\n                      iterfield=['in_file'],\n                      name='convert2nii')\nrealign_spm = Node(Realign(), name='motion_correct')\nrealign_spm.inputs.register_to_mean = False\n\nds.iterables = ('subject_id', ['sub001', 'sub049'])\n\nconnectedworkflow = Workflow(name='connectedtogether')\nconnectedworkflow.base_dir = opap('.')\nconnectedworkflow.connect(ds, 'func', convert2nii, 'in_file')\nconnectedworkflow.connect(convert2nii, 'out_file',\n                          realign_spm, 'in_files')\n#connectedworkflow.run()",
     "language": "python",
     "outputs": [],
     "prompt_number": 113
    },
    {
     "cell_type": "code",
     "collapsed": true,
     "input": "sinker = Node(DataSink(), name='sinker')\nsinker.inputs.base_directory = opap('output')\nconnectedworkflow.connect(realign_spm, 'realigned_files',\n                          sinker, 'realigned')\nconnectedworkflow.connect(realign_spm, 'realignment_parameters',\n                          sinker, 'realigned.@parameters')\n#connectedworkflow.run()",
     "language": "python",
     "outputs": [],
     "prompt_number": 114
    },
    {
     "cell_type": "code",
     "collapsed": false,
     "input": "connectedworkflow.write_graph()",
     "language": "python",
     "outputs": [],
     "prompt_number": 116
    },
    {
     "cell_type": "code",
     "collapsed": false,
     "input": "Image(filename='/mindhive/gablab/satra/mri_class/graph.dot.png')",
     "language": "python",
     "outputs": [],
     "prompt_number": 119
    },
    {
     "cell_type": "code",
     "collapsed": true,
     "input": "connectedworkflow.run()",
     "language": "python",
     "outputs": [],
     "prompt_number": 115
    },
    {
     "cell_type": "code",
     "collapsed": false,
     "input": "from nipype.interfaces.utility import Function\ndef myfunc(input1, input2):\n    return input1 + input2, input1 - input2\ncalcfunc = Node(Function(input_names=['input1', 'input2'],\n                         output_names = ['add', 'subtract'],\n                         function=myfunc),\n                name='mycalc')\ncalcfunc.inputs.input1 = 1\ncalcfunc.inputs.input2 = 2\nres = calcfunc.run()\nres.outputs",
     "language": "python",
     "outputs": [],
     "prompt_number": 118
    },
    {
     "cell_type": "code",
     "collapsed": true,
     "input": "",
     "language": "python",
     "outputs": []
    }
   ]
  }
 ]
}